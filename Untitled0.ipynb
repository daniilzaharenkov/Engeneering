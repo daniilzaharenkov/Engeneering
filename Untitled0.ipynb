{
  "nbformat": 4,
  "nbformat_minor": 0,
  "metadata": {
    "colab": {
      "provenance": [],
      "authorship_tag": "ABX9TyNVY4sTAITyXMiK4wFlZsON",
      "include_colab_link": true
    },
    "kernelspec": {
      "name": "python3",
      "display_name": "Python 3"
    },
    "language_info": {
      "name": "python"
    }
  },
  "cells": [
    {
      "cell_type": "markdown",
      "metadata": {
        "id": "view-in-github",
        "colab_type": "text"
      },
      "source": [
        "<a href=\"https://colab.research.google.com/github/daniilzaharenkov/Engeneering/blob/main/Untitled0.ipynb\" target=\"_parent\"><img src=\"https://colab.research.google.com/assets/colab-badge.svg\" alt=\"Open In Colab\"/></a>"
      ]
    },
    {
      "cell_type": "code",
      "execution_count": 8,
      "metadata": {
        "colab": {
          "base_uri": "https://localhost:8080/",
          "height": 130
        },
        "id": "UeeyHW38N_wH",
        "outputId": "fb382640-b229-4169-e503-2871871ef2ab"
      },
      "outputs": [
        {
          "output_type": "error",
          "ename": "IndentationError",
          "evalue": "ignored",
          "traceback": [
            "\u001b[0;36m  File \u001b[0;32m\"<ipython-input-8-1e74baacb36b>\"\u001b[0;36m, line \u001b[0;32m34\u001b[0m\n\u001b[0;31m    vv += vn(x, i, a=a)\u001b[0m\n\u001b[0m    ^\u001b[0m\n\u001b[0;31mIndentationError\u001b[0m\u001b[0;31m:\u001b[0m expected an indented block\n"
          ]
        }
      ],
      "source": [
        "%matplotlib inline\n",
        "import numpy as np\n",
        "import matplotlib.pyplot as plt\n",
        "import sympy as smp\n",
        "a, x, V1 = smp.symbols('a x V1')\n",
        "smp.init_printing() \n",
        "V1 = a**3 * (1 - 2 * x)**2 * x \n",
        "V1s = smp.diff(V1, x) \n",
        "x1 = smp.solve(V1s, x)\n",
        "x1_ = [xx.evalf(5) for xx in x1] \n",
        "x1, x1_\n",
        "V11 = [V1.subs(x, xx).subs(a, 1) for xx in x1] \n",
        "V11_ = [V1.subs(x, xx).subs(a, 1).evalf(5) for xx in x1] \n",
        "V11, V11_ \n",
        "V2 = smp.expand(smp.simplify(V1 + 4 * (a*x)**3 * (1 - 2*x)**2 * x))\n",
        "x2"
      ]
    }
  ]
}