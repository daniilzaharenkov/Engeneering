{
  "nbformat": 4,
  "nbformat_minor": 0,
  "metadata": {
    "colab": {
      "provenance": [],
      "authorship_tag": "ABX9TyOTpAuwnh6YKCVzPG3nvtWQ",
      "include_colab_link": true
    },
    "kernelspec": {
      "name": "python3",
      "display_name": "Python 3"
    },
    "language_info": {
      "name": "python"
    }
  },
  "cells": [
    {
      "cell_type": "markdown",
      "metadata": {
        "id": "view-in-github",
        "colab_type": "text"
      },
      "source": [
        "<a href=\"https://colab.research.google.com/github/daniilzaharenkov/Engeneering/blob/main/Untitled0.ipynb\" target=\"_parent\"><img src=\"https://colab.research.google.com/assets/colab-badge.svg\" alt=\"Open In Colab\"/></a>"
      ]
    },
    {
      "cell_type": "code",
      "execution_count": 4,
      "metadata": {
        "colab": {
          "base_uri": "https://localhost:8080/",
          "height": 58
        },
        "id": "UeeyHW38N_wH",
        "outputId": "32e836c0-ad84-4f54-db0c-da9aa1e85cf9"
      },
      "outputs": [
        {
          "output_type": "execute_result",
          "data": {
            "text/plain": [
              "([2/27, 0], [0.074074, 0])"
            ],
            "text/latex": "$\\displaystyle \\left( \\left[ \\frac{2}{27}, \\  0\\right], \\  \\left[ 0.074074, \\  0\\right]\\right)$"
          },
          "metadata": {},
          "execution_count": 4
        }
      ],
      "source": [
        "%matplotlib inline\n",
        "import numpy as np\n",
        "import matplotlib.pyplot as plt\n",
        "import sympy as smp\n",
        "a, x, V1 = smp.symbols('a x V1')\n",
        "smp.init_printing() \n",
        "V1 = a**3 * (1 - 2 * x)**2 * x \n",
        "V1s = smp.diff(V1, x) \n",
        "x1 = smp.solve(V1s, x)\n",
        "x1_ = [xx.evalf(5) for xx in x1] \n",
        "x1, x1_\n",
        "V11 = [V1.subs(x, xx).subs(a, 1) for xx in x1] \n",
        "V11_ = [V1.subs(x, xx).subs(a, 1).evalf(5) for xx in x1] \n",
        "V11, V11_ "
      ]
    }
  ]
}